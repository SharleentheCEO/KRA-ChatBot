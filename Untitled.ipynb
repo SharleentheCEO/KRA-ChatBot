{
 "cells": [
  {
   "cell_type": "markdown",
   "id": "db2d0b81-e4fa-41b7-8b8f-2931a88c3d16",
   "metadata": {},
   "source": [
    "# **Kenya Revenue Authority (KRA) ChatBot**"
   ]
  },
  {
   "cell_type": "markdown",
   "id": "0ba3cee1-6455-44e4-9225-b7b59b2900de",
   "metadata": {},
   "source": [
    "## Overview"
   ]
  },
  {
   "cell_type": "code",
   "execution_count": null,
   "id": "d66533d0-2a37-4854-b688-0f2274d06d14",
   "metadata": {},
   "outputs": [],
   "source": []
  },
  {
   "cell_type": "markdown",
   "id": "cf4b2cc3-acf7-4439-9e72-06fdfe33d85e",
   "metadata": {},
   "source": [
    "## Business Understanding"
   ]
  },
  {
   "cell_type": "code",
   "execution_count": null,
   "id": "b6a9e5ed-40ba-434b-bbe0-ec11289575ec",
   "metadata": {},
   "outputs": [],
   "source": []
  },
  {
   "cell_type": "markdown",
   "id": "5a48b120-84b5-4037-bd76-90a51cb1c0e1",
   "metadata": {},
   "source": [
    "## Problem Statement "
   ]
  },
  {
   "cell_type": "code",
   "execution_count": null,
   "id": "909a571b-6b93-4540-9ee8-b20db3b2b69d",
   "metadata": {},
   "outputs": [],
   "source": []
  },
  {
   "cell_type": "markdown",
   "id": "846ef8b0-ab2c-4123-8b30-7b850badac2d",
   "metadata": {},
   "source": [
    "## Data Understanding"
   ]
  },
  {
   "cell_type": "code",
   "execution_count": null,
   "id": "9f2b406e-e351-49da-95b8-e54692804836",
   "metadata": {},
   "outputs": [],
   "source": []
  },
  {
   "cell_type": "markdown",
   "id": "e21ba11d-d9fb-4130-bd0a-4fabd996bc6a",
   "metadata": {},
   "source": [
    "## Objectives "
   ]
  },
  {
   "cell_type": "code",
   "execution_count": null,
   "id": "014984c6-62f7-45f3-9512-5870a8768fbb",
   "metadata": {},
   "outputs": [],
   "source": []
  },
  {
   "cell_type": "markdown",
   "id": "f6d589ef-6482-4bdf-be57-832314e5b3ba",
   "metadata": {},
   "source": [
    "## Success Metrics"
   ]
  },
  {
   "cell_type": "code",
   "execution_count": null,
   "id": "5c1ae1dc-8691-4bfa-a813-b51256ca04ad",
   "metadata": {},
   "outputs": [],
   "source": []
  },
  {
   "cell_type": "markdown",
   "id": "5fce4ef4-f1aa-4e6f-a2d0-93f27dba8780",
   "metadata": {},
   "source": [
    "## Loading the datasets"
   ]
  },
  {
   "cell_type": "code",
   "execution_count": 2,
   "id": "a021543f-23aa-44cb-a78e-b8cfc0521df7",
   "metadata": {},
   "outputs": [],
   "source": [
    "#importing libraries\n",
    "import pandas as pd\n",
    "import numpy as np\n",
    "import matplotlib.pyplot as plt\n",
    "import seaborn as sns\n",
    "import tensorflow as sns\n",
    "import warnings\n",
    "\n",
    "warnings.filterwarnings('ignore')"
   ]
  },
  {
   "cell_type": "code",
   "execution_count": 4,
   "id": "43f9fc96-0a65-4357-a723-9f133c0157ca",
   "metadata": {},
   "outputs": [
    {
     "data": {
      "text/html": [
       "<div>\n",
       "<style scoped>\n",
       "    .dataframe tbody tr th:only-of-type {\n",
       "        vertical-align: middle;\n",
       "    }\n",
       "\n",
       "    .dataframe tbody tr th {\n",
       "        vertical-align: top;\n",
       "    }\n",
       "\n",
       "    .dataframe thead th {\n",
       "        text-align: right;\n",
       "    }\n",
       "</style>\n",
       "<table border=\"1\" class=\"dataframe\">\n",
       "  <thead>\n",
       "    <tr style=\"text-align: right;\">\n",
       "      <th></th>\n",
       "      <th>Questions</th>\n",
       "      <th>Answers</th>\n",
       "    </tr>\n",
       "  </thead>\n",
       "  <tbody>\n",
       "    <tr>\n",
       "      <th>0</th>\n",
       "      <td>How do I register for a KRA PIN</td>\n",
       "      <td>You can register for a KRA PIN by visiting the...</td>\n",
       "    </tr>\n",
       "    <tr>\n",
       "      <th>1</th>\n",
       "      <td>When is the deadline for filing individual inc...</td>\n",
       "      <td>The deadline for filing individual income tax ...</td>\n",
       "    </tr>\n",
       "    <tr>\n",
       "      <th>2</th>\n",
       "      <td>What is the penalty for late filing of VAT ret...</td>\n",
       "      <td>The penalty is KES 10,000 or 5% of the VAT due...</td>\n",
       "    </tr>\n",
       "    <tr>\n",
       "      <th>3</th>\n",
       "      <td>Can I recover a forgotten KRA password</td>\n",
       "      <td>Yes. Go to the iTax login page and click on 'F...</td>\n",
       "    </tr>\n",
       "    <tr>\n",
       "      <th>4</th>\n",
       "      <td>How do I apply for a KRA PIN</td>\n",
       "      <td>To apply for a KRA PIN, visit https://itax.kra...</td>\n",
       "    </tr>\n",
       "    <tr>\n",
       "      <th>...</th>\n",
       "      <td>...</td>\n",
       "      <td>...</td>\n",
       "    </tr>\n",
       "    <tr>\n",
       "      <th>172</th>\n",
       "      <td>What happens if there’s an error in the custom...</td>\n",
       "      <td>Errors can delay clearance. KRA may issue a qu...</td>\n",
       "    </tr>\n",
       "    <tr>\n",
       "      <th>173</th>\n",
       "      <td>Are physical inspections always done during cl...</td>\n",
       "      <td>Not always. Some goods are cleared via green c...</td>\n",
       "    </tr>\n",
       "    <tr>\n",
       "      <th>174</th>\n",
       "      <td>What is Pre-Export Verification of Conformity ...</td>\n",
       "      <td>PVoC is an inspection carried out in the count...</td>\n",
       "    </tr>\n",
       "    <tr>\n",
       "      <th>175</th>\n",
       "      <td>Can I track the customs clearance status of my...</td>\n",
       "      <td>Yes. You can track your entry status and shipm...</td>\n",
       "    </tr>\n",
       "    <tr>\n",
       "      <th>176</th>\n",
       "      <td>What fees are paid during customs clearance</td>\n",
       "      <td>Common fees include: Import Duty, VAT, Excise ...</td>\n",
       "    </tr>\n",
       "  </tbody>\n",
       "</table>\n",
       "<p>177 rows × 2 columns</p>\n",
       "</div>"
      ],
      "text/plain": [
       "                                             Questions  \\\n",
       "0                      How do I register for a KRA PIN   \n",
       "1    When is the deadline for filing individual inc...   \n",
       "2    What is the penalty for late filing of VAT ret...   \n",
       "3               Can I recover a forgotten KRA password   \n",
       "4                         How do I apply for a KRA PIN   \n",
       "..                                                 ...   \n",
       "172  What happens if there’s an error in the custom...   \n",
       "173  Are physical inspections always done during cl...   \n",
       "174  What is Pre-Export Verification of Conformity ...   \n",
       "175  Can I track the customs clearance status of my...   \n",
       "176        What fees are paid during customs clearance   \n",
       "\n",
       "                                               Answers  \n",
       "0    You can register for a KRA PIN by visiting the...  \n",
       "1    The deadline for filing individual income tax ...  \n",
       "2    The penalty is KES 10,000 or 5% of the VAT due...  \n",
       "3    Yes. Go to the iTax login page and click on 'F...  \n",
       "4    To apply for a KRA PIN, visit https://itax.kra...  \n",
       "..                                                 ...  \n",
       "172  Errors can delay clearance. KRA may issue a qu...  \n",
       "173  Not always. Some goods are cleared via green c...  \n",
       "174  PVoC is an inspection carried out in the count...  \n",
       "175  Yes. You can track your entry status and shipm...  \n",
       "176  Common fees include: Import Duty, VAT, Excise ...  \n",
       "\n",
       "[177 rows x 2 columns]"
      ]
     },
     "execution_count": 4,
     "metadata": {},
     "output_type": "execute_result"
    }
   ],
   "source": [
    "# Loading the FAQs dataset\n",
    "data= pd.read_csv(\"KRAfaqs.csv\")\n",
    "data"
   ]
  },
  {
   "cell_type": "code",
   "execution_count": null,
   "id": "6bc33e06-d5fb-4139-b12f-67b1189a7cf0",
   "metadata": {},
   "outputs": [],
   "source": []
  }
 ],
 "metadata": {
  "kernelspec": {
   "display_name": "Python (learn-env)",
   "language": "python",
   "name": "learn-env"
  },
  "language_info": {
   "codemirror_mode": {
    "name": "ipython",
    "version": 3
   },
   "file_extension": ".py",
   "mimetype": "text/x-python",
   "name": "python",
   "nbconvert_exporter": "python",
   "pygments_lexer": "ipython3",
   "version": "3.11.11"
  }
 },
 "nbformat": 4,
 "nbformat_minor": 5
}
