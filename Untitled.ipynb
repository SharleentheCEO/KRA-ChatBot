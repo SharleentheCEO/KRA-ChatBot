{
 "cells": [
  {
   "cell_type": "markdown",
   "id": "db2d0b81-e4fa-41b7-8b8f-2931a88c3d16",
   "metadata": {},
   "source": [
    "# **Kenya Revenue Authority (KRA) ChatBot**"
   ]
  },
  {
   "cell_type": "markdown",
   "id": "0ba3cee1-6455-44e4-9225-b7b59b2900de",
   "metadata": {},
   "source": [
    "## Overview"
   ]
  },
  {
   "cell_type": "markdown",
   "id": "de73451a-57cb-4067-a675-79d72a552d4d",
   "metadata": {},
   "source": [
    "The **Kenya Revenue Authority (KRA)** is responsible for the collection of revenue on behalf of the Government of Kenya. With increasing demand for tax-related services, citizens often encounter delays and confusion when trying to understand tax obligations, file returns, or access services through traditional channels.\n",
    "To enhance public service delivery and ease access to tax information, this project aims to develop an AI-powered KRA Chatbot capable of answering common tax-related queries for individuals and businesses in real time."
   ]
  },
  {
   "cell_type": "markdown",
   "id": "cf4b2cc3-acf7-4439-9e72-06fdfe33d85e",
   "metadata": {},
   "source": [
    "## Business Understanding"
   ]
  },
  {
   "cell_type": "markdown",
   "id": "8c0d956e-1ed9-4278-97e1-a31d69604954",
   "metadata": {},
   "source": [
    "The **Kenya Revenue Authority (KRA)** plays a critical role in national development by collecting taxes that fund public services and infrastructure. However, many citizens face challenges navigating Kenya’s complex tax ecosystem. Taxpayers—especially small business owners, first-time filers, informal sector workers, and youth—often struggle to understand their tax obligations, registration processes, deadlines, and compliance procedures.This leads to widespread confusion, delays in filing, non-compliance, and an overburdened KRA support system.\n",
    "\n",
    "To address these challenges, the KRA Chatbot will be developed to provide instant, real-time, accessible and accurate assistance to users seeking tax-related information and services.The goal is to enhance accessability, reduce misinformation, and improve user engagement by leveraging natural language processing (NLP) for dynamic, intelligent responses."
   ]
  },
  {
   "cell_type": "markdown",
   "id": "5a48b120-84b5-4037-bd76-90a51cb1c0e1",
   "metadata": {},
   "source": [
    "## Problem Statement "
   ]
  },
  {
   "cell_type": "markdown",
   "id": "ddc294ce-ee45-42a5-97af-c7ee6ba27111",
   "metadata": {},
   "source": [
    "In Kenya, taxpayer education remains a significant barrier to improving compliance and understanding of the tax system. Many Kenyans struggle with filing taxes on time, understanding how much to pay, and navigating the KRA iTax system. Despite the resources available on the KRA website, clarity and accessibility of information remain a challenge. Taxpayers often face delays and confusion when trying to access support or find accurate information. Additionally, the language barriers between English and Swahili further hinder accessibility. The KRA Chatbot addresses these challenges by providing an AI powered, bilingual chatbot capable of handling the KRA-related queries with precision and also ensures that users receive relevant responses."
   ]
  },
  {
   "cell_type": "markdown",
   "id": "846ef8b0-ab2c-4123-8b30-7b850badac2d",
   "metadata": {},
   "source": [
    "## Data Understanding"
   ]
  },
  {
   "cell_type": "code",
   "execution_count": null,
   "id": "9f2b406e-e351-49da-95b8-e54692804836",
   "metadata": {},
   "outputs": [],
   "source": []
  },
  {
   "cell_type": "markdown",
   "id": "e21ba11d-d9fb-4130-bd0a-4fabd996bc6a",
   "metadata": {},
   "source": [
    "## Objectives "
   ]
  },
  {
   "cell_type": "code",
   "execution_count": null,
   "id": "014984c6-62f7-45f3-9512-5870a8768fbb",
   "metadata": {},
   "outputs": [],
   "source": []
  },
  {
   "cell_type": "markdown",
   "id": "f6d589ef-6482-4bdf-be57-832314e5b3ba",
   "metadata": {},
   "source": [
    "## Success Metrics"
   ]
  },
  {
   "cell_type": "code",
   "execution_count": null,
   "id": "5c1ae1dc-8691-4bfa-a813-b51256ca04ad",
   "metadata": {},
   "outputs": [],
   "source": []
  },
  {
   "cell_type": "markdown",
   "id": "5fce4ef4-f1aa-4e6f-a2d0-93f27dba8780",
   "metadata": {},
   "source": [
    "## Loading the datasets"
   ]
  },
  {
   "cell_type": "code",
   "execution_count": 32,
   "id": "a021543f-23aa-44cb-a78e-b8cfc0521df7",
   "metadata": {},
   "outputs": [],
   "source": [
    "#importing libraries\n",
    "import pandas as pd\n",
    "import numpy as np\n",
    "import matplotlib.pyplot as plt\n",
    "import seaborn as sns\n",
    "import tensorflow as tf\n",
    "import warnings\n",
    "\n",
    "warnings.filterwarnings('ignore')"
   ]
  },
  {
   "cell_type": "code",
   "execution_count": 42,
   "id": "43f9fc96-0a65-4357-a723-9f133c0157ca",
   "metadata": {},
   "outputs": [
    {
     "data": {
      "text/html": [
       "<div>\n",
       "<style scoped>\n",
       "    .dataframe tbody tr th:only-of-type {\n",
       "        vertical-align: middle;\n",
       "    }\n",
       "\n",
       "    .dataframe tbody tr th {\n",
       "        vertical-align: top;\n",
       "    }\n",
       "\n",
       "    .dataframe thead th {\n",
       "        text-align: right;\n",
       "    }\n",
       "</style>\n",
       "<table border=\"1\" class=\"dataframe\">\n",
       "  <thead>\n",
       "    <tr style=\"text-align: right;\">\n",
       "      <th></th>\n",
       "      <th>Questions</th>\n",
       "      <th>Answers</th>\n",
       "    </tr>\n",
       "  </thead>\n",
       "  <tbody>\n",
       "    <tr>\n",
       "      <th>0</th>\n",
       "      <td>How do I register for a KRA PIN</td>\n",
       "      <td>You can register for a KRA PIN by visiting the...</td>\n",
       "    </tr>\n",
       "    <tr>\n",
       "      <th>1</th>\n",
       "      <td>When is the deadline for filing individual inc...</td>\n",
       "      <td>The deadline for filing individual income tax ...</td>\n",
       "    </tr>\n",
       "    <tr>\n",
       "      <th>2</th>\n",
       "      <td>What is the penalty for late filing of VAT ret...</td>\n",
       "      <td>The penalty is KES 10,000 or 5% of the VAT due...</td>\n",
       "    </tr>\n",
       "    <tr>\n",
       "      <th>3</th>\n",
       "      <td>Can I recover a forgotten KRA password</td>\n",
       "      <td>Yes. Go to the iTax login page and click on 'F...</td>\n",
       "    </tr>\n",
       "    <tr>\n",
       "      <th>4</th>\n",
       "      <td>How do I apply for a KRA PIN</td>\n",
       "      <td>To apply for a KRA PIN, visit https://itax.kra...</td>\n",
       "    </tr>\n",
       "    <tr>\n",
       "      <th>...</th>\n",
       "      <td>...</td>\n",
       "      <td>...</td>\n",
       "    </tr>\n",
       "    <tr>\n",
       "      <th>1027</th>\n",
       "      <td>Where do I send written reports on tax fraud?</td>\n",
       "      <td>Send written information to: Commissioner Gene...</td>\n",
       "    </tr>\n",
       "    <tr>\n",
       "      <th>1028</th>\n",
       "      <td>Can I report tax fraud anonymously?</td>\n",
       "      <td>Yes, you can report anonymously through the KR...</td>\n",
       "    </tr>\n",
       "    <tr>\n",
       "      <th>1029</th>\n",
       "      <td>Are there other places to report tax fraud in ...</td>\n",
       "      <td>Yes, you can visit the Intelligence &amp; Strategi...</td>\n",
       "    </tr>\n",
       "    <tr>\n",
       "      <th>1030</th>\n",
       "      <td>What happens after I report tax fraud?</td>\n",
       "      <td>KRA investigates the case, and if successful, ...</td>\n",
       "    </tr>\n",
       "    <tr>\n",
       "      <th>1031</th>\n",
       "      <td>Is the informer’s identity protected?</td>\n",
       "      <td>Yes, KRA ensures confidentiality to protect in...</td>\n",
       "    </tr>\n",
       "  </tbody>\n",
       "</table>\n",
       "<p>1032 rows × 2 columns</p>\n",
       "</div>"
      ],
      "text/plain": [
       "                                              Questions  \\\n",
       "0                       How do I register for a KRA PIN   \n",
       "1     When is the deadline for filing individual inc...   \n",
       "2     What is the penalty for late filing of VAT ret...   \n",
       "3                Can I recover a forgotten KRA password   \n",
       "4                          How do I apply for a KRA PIN   \n",
       "...                                                 ...   \n",
       "1027      Where do I send written reports on tax fraud?   \n",
       "1028                Can I report tax fraud anonymously?   \n",
       "1029  Are there other places to report tax fraud in ...   \n",
       "1030             What happens after I report tax fraud?   \n",
       "1031              Is the informer’s identity protected?   \n",
       "\n",
       "                                                Answers  \n",
       "0     You can register for a KRA PIN by visiting the...  \n",
       "1     The deadline for filing individual income tax ...  \n",
       "2     The penalty is KES 10,000 or 5% of the VAT due...  \n",
       "3     Yes. Go to the iTax login page and click on 'F...  \n",
       "4     To apply for a KRA PIN, visit https://itax.kra...  \n",
       "...                                                 ...  \n",
       "1027  Send written information to: Commissioner Gene...  \n",
       "1028  Yes, you can report anonymously through the KR...  \n",
       "1029  Yes, you can visit the Intelligence & Strategi...  \n",
       "1030  KRA investigates the case, and if successful, ...  \n",
       "1031  Yes, KRA ensures confidentiality to protect in...  \n",
       "\n",
       "[1032 rows x 2 columns]"
      ]
     },
     "execution_count": 42,
     "metadata": {},
     "output_type": "execute_result"
    }
   ],
   "source": [
    "# Loading the FAQs dataset\n",
    "data= pd.read_csv(\"KRAfaqs.csv\")\n",
    "data"
   ]
  },
  {
   "cell_type": "markdown",
   "id": "24c4174f-0c5e-45db-84ed-ac7c5f28ba1d",
   "metadata": {},
   "source": [
    "There are 1023 rows and 2 columns"
   ]
  },
  {
   "cell_type": "code",
   "execution_count": 43,
   "id": "ad20cbac-6af4-4a95-abcc-6a01f4e857fc",
   "metadata": {},
   "outputs": [
    {
     "name": "stdout",
     "output_type": "stream",
     "text": [
      "<class 'pandas.core.frame.DataFrame'>\n",
      "RangeIndex: 1032 entries, 0 to 1031\n",
      "Data columns (total 2 columns):\n",
      " #   Column     Non-Null Count  Dtype \n",
      "---  ------     --------------  ----- \n",
      " 0   Questions  1023 non-null   object\n",
      " 1   Answers    1023 non-null   object\n",
      "dtypes: object(2)\n",
      "memory usage: 16.3+ KB\n"
     ]
    }
   ],
   "source": [
    "# Checking the info in the dataset\n",
    "data.info()"
   ]
  },
  {
   "cell_type": "markdown",
   "id": "25f33a14-7162-4a38-96f2-658a808d4f62",
   "metadata": {},
   "source": [
    "This dataset has 1023 entries and 2 columns (Questions, Answers), both containing text data (object type)."
   ]
  },
  {
   "cell_type": "code",
   "execution_count": 44,
   "id": "4077573b-b347-4561-ae53-4953f580bddc",
   "metadata": {},
   "outputs": [
    {
     "data": {
      "text/html": [
       "<div>\n",
       "<style scoped>\n",
       "    .dataframe tbody tr th:only-of-type {\n",
       "        vertical-align: middle;\n",
       "    }\n",
       "\n",
       "    .dataframe tbody tr th {\n",
       "        vertical-align: top;\n",
       "    }\n",
       "\n",
       "    .dataframe thead th {\n",
       "        text-align: right;\n",
       "    }\n",
       "</style>\n",
       "<table border=\"1\" class=\"dataframe\">\n",
       "  <thead>\n",
       "    <tr style=\"text-align: right;\">\n",
       "      <th></th>\n",
       "      <th>Questions</th>\n",
       "      <th>Answers</th>\n",
       "    </tr>\n",
       "  </thead>\n",
       "  <tbody>\n",
       "    <tr>\n",
       "      <th>count</th>\n",
       "      <td>1023</td>\n",
       "      <td>1023</td>\n",
       "    </tr>\n",
       "    <tr>\n",
       "      <th>unique</th>\n",
       "      <td>1003</td>\n",
       "      <td>1019</td>\n",
       "    </tr>\n",
       "    <tr>\n",
       "      <th>top</th>\n",
       "      <td>What is iTax</td>\n",
       "      <td>VAT returns must be filed monthly, on or befor...</td>\n",
       "    </tr>\n",
       "    <tr>\n",
       "      <th>freq</th>\n",
       "      <td>2</td>\n",
       "      <td>2</td>\n",
       "    </tr>\n",
       "  </tbody>\n",
       "</table>\n",
       "</div>"
      ],
      "text/plain": [
       "           Questions                                            Answers\n",
       "count           1023                                               1023\n",
       "unique          1003                                               1019\n",
       "top     What is iTax  VAT returns must be filed monthly, on or befor...\n",
       "freq               2                                                  2"
      ]
     },
     "execution_count": 44,
     "metadata": {},
     "output_type": "execute_result"
    }
   ],
   "source": [
    "#Describing the dataset\n",
    "data.describe()"
   ]
  },
  {
   "cell_type": "markdown",
   "id": "1b59993f-af08-4929-8743-50247a85a954",
   "metadata": {},
   "source": [
    "* There are 1023 rows, meaning the dataset contains 615 FAQ pairs (each with a question and answer). Unique Values\n",
    "\n",
    "* Questions column has 1003 unique values:\n",
    "\n",
    "* Answers column has 1019 unique values:\n",
    "\n",
    "* The most common question is \"What is iTax\", appearing 2 times in the dataset.\n",
    "\n",
    "* The most common answer is \"VAT returns must be filed monthly, on or befor...\", appearing 2 times in the dataset.\n",
    "\n",
    "* The most common question appears 2 times, indicating that users frequently ask about not filing the tax returns.\n",
    "\n",
    "* The most common answer appears 2 times, suggesting that some questions share a similar response."
   ]
  },
  {
   "cell_type": "markdown",
   "id": "aa2266f7-0175-4c8b-82f2-7a103267ad54",
   "metadata": {},
   "source": [
    "## Data Cleaning"
   ]
  },
  {
   "cell_type": "markdown",
   "id": "3c15a90f-0d30-4ca4-ba85-abbef7a83016",
   "metadata": {},
   "source": [
    "### Accuracy"
   ]
  },
  {
   "cell_type": "code",
   "execution_count": 45,
   "id": "6bc33e06-d5fb-4139-b12f-67b1189a7cf0",
   "metadata": {},
   "outputs": [
    {
     "data": {
      "text/plain": [
       "np.int64(8)"
      ]
     },
     "execution_count": 45,
     "metadata": {},
     "output_type": "execute_result"
    }
   ],
   "source": [
    "#Checking for duplicates\n",
    "data.duplicated().sum()"
   ]
  },
  {
   "cell_type": "markdown",
   "id": "1485e60d-bd3d-47b4-b477-9f3293857b8a",
   "metadata": {},
   "source": [
    "There are 8 duplicates in the dataset. The duplicates will be dropped."
   ]
  },
  {
   "cell_type": "code",
   "execution_count": 46,
   "id": "8f65ea5f-6eba-4640-91aa-2106d7839008",
   "metadata": {},
   "outputs": [
    {
     "data": {
      "text/plain": [
       "Questions    9\n",
       "Answers      9\n",
       "dtype: int64"
      ]
     },
     "execution_count": 46,
     "metadata": {},
     "output_type": "execute_result"
    }
   ],
   "source": [
    "#Checking for null values\n",
    "data.isnull().sum()"
   ]
  },
  {
   "cell_type": "markdown",
   "id": "90b31b9e-fd6e-40f9-82ed-13afb14bc60c",
   "metadata": {},
   "source": [
    "There are 9 null values in the Questions column and 9 null values in the Answers column. The null values will be dropped."
   ]
  },
  {
   "cell_type": "code",
   "execution_count": 48,
   "id": "d593c61d-a1d1-4252-a113-7be95a1a582f",
   "metadata": {},
   "outputs": [
    {
     "data": {
      "text/plain": [
       "np.float64(0.7751937984496124)"
      ]
     },
     "execution_count": 48,
     "metadata": {},
     "output_type": "execute_result"
    }
   ],
   "source": [
    "#calculating the percentage for duplicates\n",
    "duplicated_percentage = (data.duplicated().sum() / len(data)) * 100\n",
    "duplicated_percentage"
   ]
  },
  {
   "cell_type": "markdown",
   "id": "00d009d5-ea4b-4b7b-941d-27166d227406",
   "metadata": {},
   "source": [
    "The percentage for duplicates is 0.7751937984496124 %. This is a small percentage and the duplicates will be dropped to ensure efficiency of the chatbot."
   ]
  },
  {
   "cell_type": "markdown",
   "id": "c3447754-a557-4d6c-bd25-c2470be4d915",
   "metadata": {},
   "source": [
    "### Checking for outliers"
   ]
  },
  {
   "cell_type": "code",
   "execution_count": 49,
   "id": "e5769aee-41c9-4336-a2ce-5355aad680b2",
   "metadata": {},
   "outputs": [
    {
     "data": {
      "image/png": "[encoded data removed]",
      "text/plain": [
       "<Figure size 640x480 with 1 Axes>"
      ]
     },
     "metadata": {},
     "output_type": "display_data"
    }
   ],
   "source": [
    "# Checking for outliers for categorical columns in the FAQ datasets\n",
    "# Compute word count for question and answer columns\n",
    "data['Question_length'] = data['Questions'].fillna('').astype(str).apply(lambda x: len(x.split()))\n",
    "data['Answer_length'] = data['Answers'].fillna('').astype(str).apply(lambda x: len(x.split()))\n",
    "\n",
    "# Boxplot of question lengths and answer lengths\n",
    "sns.boxplot(data=data[['Question_length', 'Answer_length']])\n",
    "plt.show()"
   ]
  },
  {
   "cell_type": "markdown",
   "id": "725ab3b3-fe04-4fa5-af07-7a6943a9f08a",
   "metadata": {},
   "source": [
    "The FAQS dataset displays to have outliers for both columns. The outliers will not be dropped since outliers in FAQs represent real user queries, including rare or detailed questions. Keeping them will ensure that the chatbot learns diverse inputs, improving response accuracy and generalization without losing important contextual variations."
   ]
  },
  {
   "cell_type": "markdown",
   "id": "94b699fb-b832-4389-960f-0d1622dd7d27",
   "metadata": {},
   "source": [
    "### Consistency and Uniformity"
   ]
  },
  {
   "cell_type": "code",
   "execution_count": 51,
   "id": "c91c7ed3-59a5-4452-ab05-db3b4e120844",
   "metadata": {},
   "outputs": [
    {
     "data": {
      "text/plain": [
       "np.int64(0)"
      ]
     },
     "execution_count": 51,
     "metadata": {},
     "output_type": "execute_result"
    }
   ],
   "source": [
    "#Dropping duplicates\n",
    "data = data.drop_duplicates()\n",
    "data.duplicated().sum()"
   ]
  },
  {
   "cell_type": "markdown",
   "id": "58d58ae9-2b68-4510-8c51-9c9385bd45cc",
   "metadata": {},
   "source": [
    "There are no duplicates. All the duplicates have been dropped."
   ]
  },
  {
   "cell_type": "code",
   "execution_count": 56,
   "id": "279930e6-c044-409d-a5fa-e0a611044c08",
   "metadata": {},
   "outputs": [
    {
     "data": {
      "text/html": [
       "<div>\n",
       "<style scoped>\n",
       "    .dataframe tbody tr th:only-of-type {\n",
       "        vertical-align: middle;\n",
       "    }\n",
       "\n",
       "    .dataframe tbody tr th {\n",
       "        vertical-align: top;\n",
       "    }\n",
       "\n",
       "    .dataframe thead th {\n",
       "        text-align: right;\n",
       "    }\n",
       "</style>\n",
       "<table border=\"1\" class=\"dataframe\">\n",
       "  <thead>\n",
       "    <tr style=\"text-align: right;\">\n",
       "      <th></th>\n",
       "      <th>Questions</th>\n",
       "      <th>Answers</th>\n",
       "      <th>Question_length</th>\n",
       "      <th>Answer_length</th>\n",
       "    </tr>\n",
       "  </thead>\n",
       "  <tbody>\n",
       "    <tr>\n",
       "      <th>0</th>\n",
       "      <td>How do I register for a KRA PIN</td>\n",
       "      <td>You can register for a KRA PIN by visiting the...</td>\n",
       "      <td>8</td>\n",
       "      <td>28</td>\n",
       "    </tr>\n",
       "    <tr>\n",
       "      <th>1</th>\n",
       "      <td>When is the deadline for filing individual inc...</td>\n",
       "      <td>The deadline for filing individual income tax ...</td>\n",
       "      <td>10</td>\n",
       "      <td>17</td>\n",
       "    </tr>\n",
       "    <tr>\n",
       "      <th>2</th>\n",
       "      <td>What is the penalty for late filing of VAT ret...</td>\n",
       "      <td>The penalty is KES 10,000 or 5% of the VAT due...</td>\n",
       "      <td>10</td>\n",
       "      <td>14</td>\n",
       "    </tr>\n",
       "    <tr>\n",
       "      <th>3</th>\n",
       "      <td>Can I recover a forgotten KRA password</td>\n",
       "      <td>Yes. Go to the iTax login page and click on 'F...</td>\n",
       "      <td>7</td>\n",
       "      <td>23</td>\n",
       "    </tr>\n",
       "    <tr>\n",
       "      <th>4</th>\n",
       "      <td>How do I apply for a KRA PIN</td>\n",
       "      <td>To apply for a KRA PIN, visit https://itax.kra...</td>\n",
       "      <td>8</td>\n",
       "      <td>30</td>\n",
       "    </tr>\n",
       "    <tr>\n",
       "      <th>...</th>\n",
       "      <td>...</td>\n",
       "      <td>...</td>\n",
       "      <td>...</td>\n",
       "      <td>...</td>\n",
       "    </tr>\n",
       "    <tr>\n",
       "      <th>1027</th>\n",
       "      <td>Where do I send written reports on tax fraud?</td>\n",
       "      <td>Send written information to: Commissioner Gene...</td>\n",
       "      <td>9</td>\n",
       "      <td>19</td>\n",
       "    </tr>\n",
       "    <tr>\n",
       "      <th>1028</th>\n",
       "      <td>Can I report tax fraud anonymously?</td>\n",
       "      <td>Yes, you can report anonymously through the KR...</td>\n",
       "      <td>6</td>\n",
       "      <td>15</td>\n",
       "    </tr>\n",
       "    <tr>\n",
       "      <th>1029</th>\n",
       "      <td>Are there other places to report tax fraud in ...</td>\n",
       "      <td>Yes, you can visit the Intelligence &amp; Strategi...</td>\n",
       "      <td>10</td>\n",
       "      <td>28</td>\n",
       "    </tr>\n",
       "    <tr>\n",
       "      <th>1030</th>\n",
       "      <td>What happens after I report tax fraud?</td>\n",
       "      <td>KRA investigates the case, and if successful, ...</td>\n",
       "      <td>7</td>\n",
       "      <td>20</td>\n",
       "    </tr>\n",
       "    <tr>\n",
       "      <th>1031</th>\n",
       "      <td>Is the informer’s identity protected?</td>\n",
       "      <td>Yes, KRA ensures confidentiality to protect in...</td>\n",
       "      <td>5</td>\n",
       "      <td>11</td>\n",
       "    </tr>\n",
       "  </tbody>\n",
       "</table>\n",
       "<p>1023 rows × 4 columns</p>\n",
       "</div>"
      ],
      "text/plain": [
       "                                              Questions  \\\n",
       "0                       How do I register for a KRA PIN   \n",
       "1     When is the deadline for filing individual inc...   \n",
       "2     What is the penalty for late filing of VAT ret...   \n",
       "3                Can I recover a forgotten KRA password   \n",
       "4                          How do I apply for a KRA PIN   \n",
       "...                                                 ...   \n",
       "1027      Where do I send written reports on tax fraud?   \n",
       "1028                Can I report tax fraud anonymously?   \n",
       "1029  Are there other places to report tax fraud in ...   \n",
       "1030             What happens after I report tax fraud?   \n",
       "1031              Is the informer’s identity protected?   \n",
       "\n",
       "                                                Answers  Question_length  \\\n",
       "0     You can register for a KRA PIN by visiting the...                8   \n",
       "1     The deadline for filing individual income tax ...               10   \n",
       "2     The penalty is KES 10,000 or 5% of the VAT due...               10   \n",
       "3     Yes. Go to the iTax login page and click on 'F...                7   \n",
       "4     To apply for a KRA PIN, visit https://itax.kra...                8   \n",
       "...                                                 ...              ...   \n",
       "1027  Send written information to: Commissioner Gene...                9   \n",
       "1028  Yes, you can report anonymously through the KR...                6   \n",
       "1029  Yes, you can visit the Intelligence & Strategi...               10   \n",
       "1030  KRA investigates the case, and if successful, ...                7   \n",
       "1031  Yes, KRA ensures confidentiality to protect in...                5   \n",
       "\n",
       "      Answer_length  \n",
       "0                28  \n",
       "1                17  \n",
       "2                14  \n",
       "3                23  \n",
       "4                30  \n",
       "...             ...  \n",
       "1027             19  \n",
       "1028             15  \n",
       "1029             28  \n",
       "1030             20  \n",
       "1031             11  \n",
       "\n",
       "[1023 rows x 4 columns]"
      ]
     },
     "execution_count": 56,
     "metadata": {},
     "output_type": "execute_result"
    }
   ],
   "source": [
    "#Dropping null values\n",
    "data.dropna()"
   ]
  },
  {
   "cell_type": "markdown",
   "id": "010a277b-84b8-4d23-a3d0-809e4404205d",
   "metadata": {},
   "source": [
    "All duplicates have been dropped"
   ]
  },
  {
   "cell_type": "code",
   "execution_count": 57,
   "id": "6e07b531-76d2-4795-9503-dec2f5024ec3",
   "metadata": {},
   "outputs": [
    {
     "data": {
      "text/plain": [
       "Questions          object\n",
       "Answers            object\n",
       "Question_length     int64\n",
       "Answer_length       int64\n",
       "dtype: object"
      ]
     },
     "execution_count": 57,
     "metadata": {},
     "output_type": "execute_result"
    }
   ],
   "source": [
    "#Checking for datatypes in the FAQS dataset\n",
    "data.dtypes"
   ]
  },
  {
   "cell_type": "markdown",
   "id": "9f48f38e-bbfd-4879-b5cf-1e1726bb79fe",
   "metadata": {},
   "source": [
    "* Question → object: Stores text-based questions in string format.\n",
    "\n",
    "* Answer → object: Contains text-based answers corresponding to the questions.\n",
    "\n",
    "* Question_length → int64: Represents the number of words or characters in each question as an integer.\n",
    "\n",
    "* Answer_length → int64: Represents the number of words or characters in each answer as an integer."
   ]
  },
  {
   "cell_type": "code",
   "execution_count": 58,
   "id": "82d5d579-30bc-4a94-9e43-cff73882174a",
   "metadata": {},
   "outputs": [
    {
     "data": {
      "text/html": [
       "<div>\n",
       "<style scoped>\n",
       "    .dataframe tbody tr th:only-of-type {\n",
       "        vertical-align: middle;\n",
       "    }\n",
       "\n",
       "    .dataframe tbody tr th {\n",
       "        vertical-align: top;\n",
       "    }\n",
       "\n",
       "    .dataframe thead th {\n",
       "        text-align: right;\n",
       "    }\n",
       "</style>\n",
       "<table border=\"1\" class=\"dataframe\">\n",
       "  <thead>\n",
       "    <tr style=\"text-align: right;\">\n",
       "      <th></th>\n",
       "      <th>Questions</th>\n",
       "      <th>Answers</th>\n",
       "      <th>Question_length</th>\n",
       "      <th>Answer_length</th>\n",
       "    </tr>\n",
       "  </thead>\n",
       "  <tbody>\n",
       "    <tr>\n",
       "      <th>0</th>\n",
       "      <td>How do I register for a KRA PIN</td>\n",
       "      <td>You can register for a KRA PIN by visiting the...</td>\n",
       "      <td>8</td>\n",
       "      <td>28</td>\n",
       "    </tr>\n",
       "    <tr>\n",
       "      <th>1</th>\n",
       "      <td>When is the deadline for filing individual inc...</td>\n",
       "      <td>The deadline for filing individual income tax ...</td>\n",
       "      <td>10</td>\n",
       "      <td>17</td>\n",
       "    </tr>\n",
       "    <tr>\n",
       "      <th>2</th>\n",
       "      <td>What is the penalty for late filing of VAT ret...</td>\n",
       "      <td>The penalty is KES 10,000 or 5% of the VAT due...</td>\n",
       "      <td>10</td>\n",
       "      <td>14</td>\n",
       "    </tr>\n",
       "    <tr>\n",
       "      <th>3</th>\n",
       "      <td>Can I recover a forgotten KRA password</td>\n",
       "      <td>Yes. Go to the iTax login page and click on 'F...</td>\n",
       "      <td>7</td>\n",
       "      <td>23</td>\n",
       "    </tr>\n",
       "    <tr>\n",
       "      <th>4</th>\n",
       "      <td>How do I apply for a KRA PIN</td>\n",
       "      <td>To apply for a KRA PIN, visit https://itax.kra...</td>\n",
       "      <td>8</td>\n",
       "      <td>30</td>\n",
       "    </tr>\n",
       "    <tr>\n",
       "      <th>...</th>\n",
       "      <td>...</td>\n",
       "      <td>...</td>\n",
       "      <td>...</td>\n",
       "      <td>...</td>\n",
       "    </tr>\n",
       "    <tr>\n",
       "      <th>1027</th>\n",
       "      <td>Where do I send written reports on tax fraud?</td>\n",
       "      <td>Send written information to: Commissioner Gene...</td>\n",
       "      <td>9</td>\n",
       "      <td>19</td>\n",
       "    </tr>\n",
       "    <tr>\n",
       "      <th>1028</th>\n",
       "      <td>Can I report tax fraud anonymously?</td>\n",
       "      <td>Yes, you can report anonymously through the KR...</td>\n",
       "      <td>6</td>\n",
       "      <td>15</td>\n",
       "    </tr>\n",
       "    <tr>\n",
       "      <th>1029</th>\n",
       "      <td>Are there other places to report tax fraud in ...</td>\n",
       "      <td>Yes, you can visit the Intelligence &amp; Strategi...</td>\n",
       "      <td>10</td>\n",
       "      <td>28</td>\n",
       "    </tr>\n",
       "    <tr>\n",
       "      <th>1030</th>\n",
       "      <td>What happens after I report tax fraud?</td>\n",
       "      <td>KRA investigates the case, and if successful, ...</td>\n",
       "      <td>7</td>\n",
       "      <td>20</td>\n",
       "    </tr>\n",
       "    <tr>\n",
       "      <th>1031</th>\n",
       "      <td>Is the informer’s identity protected?</td>\n",
       "      <td>Yes, KRA ensures confidentiality to protect in...</td>\n",
       "      <td>5</td>\n",
       "      <td>11</td>\n",
       "    </tr>\n",
       "  </tbody>\n",
       "</table>\n",
       "<p>1024 rows × 4 columns</p>\n",
       "</div>"
      ],
      "text/plain": [
       "                                              Questions  \\\n",
       "0                       How do I register for a KRA PIN   \n",
       "1     When is the deadline for filing individual inc...   \n",
       "2     What is the penalty for late filing of VAT ret...   \n",
       "3                Can I recover a forgotten KRA password   \n",
       "4                          How do I apply for a KRA PIN   \n",
       "...                                                 ...   \n",
       "1027      Where do I send written reports on tax fraud?   \n",
       "1028                Can I report tax fraud anonymously?   \n",
       "1029  Are there other places to report tax fraud in ...   \n",
       "1030             What happens after I report tax fraud?   \n",
       "1031              Is the informer’s identity protected?   \n",
       "\n",
       "                                                Answers  Question_length  \\\n",
       "0     You can register for a KRA PIN by visiting the...                8   \n",
       "1     The deadline for filing individual income tax ...               10   \n",
       "2     The penalty is KES 10,000 or 5% of the VAT due...               10   \n",
       "3     Yes. Go to the iTax login page and click on 'F...                7   \n",
       "4     To apply for a KRA PIN, visit https://itax.kra...                8   \n",
       "...                                                 ...              ...   \n",
       "1027  Send written information to: Commissioner Gene...                9   \n",
       "1028  Yes, you can report anonymously through the KR...                6   \n",
       "1029  Yes, you can visit the Intelligence & Strategi...               10   \n",
       "1030  KRA investigates the case, and if successful, ...                7   \n",
       "1031  Yes, KRA ensures confidentiality to protect in...                5   \n",
       "\n",
       "      Answer_length  \n",
       "0                28  \n",
       "1                17  \n",
       "2                14  \n",
       "3                23  \n",
       "4                30  \n",
       "...             ...  \n",
       "1027             19  \n",
       "1028             15  \n",
       "1029             28  \n",
       "1030             20  \n",
       "1031             11  \n",
       "\n",
       "[1024 rows x 4 columns]"
      ]
     },
     "execution_count": 58,
     "metadata": {},
     "output_type": "execute_result"
    }
   ],
   "source": [
    "# Displaying the cleaned FAQS dataset\n",
    "data"
   ]
  },
  {
   "cell_type": "markdown",
   "id": "4a82c225-a1a8-4a20-81ac-aaa2a65bc43a",
   "metadata": {},
   "source": [
    "The cleaned FAQs dataset has 2173 rows and 4 columns ."
   ]
  },
  {
   "cell_type": "markdown",
   "id": "d6fa0594-a8cd-42d2-90a4-590bc4a71076",
   "metadata": {},
   "source": [
    "## Exploratory Data Analysis (EDA)"
   ]
  },
  {
   "cell_type": "code",
   "execution_count": null,
   "id": "d156608c-78d0-4e6d-98af-01e3afbf375f",
   "metadata": {},
   "outputs": [],
   "source": []
  }
 ],
 "metadata": {
  "kernelspec": {
   "display_name": "Python (learn-env)",
   "language": "python",
   "name": "learn-env"
  },
  "language_info": {
   "codemirror_mode": {
    "name": "ipython",
    "version": 3
   },
   "file_extension": ".py",
   "mimetype": "text/x-python",
   "name": "python",
   "nbconvert_exporter": "python",
   "pygments_lexer": "ipython3",
   "version": "3.11.11"
  }
 },
 "nbformat": 4,
 "nbformat_minor": 5
}
