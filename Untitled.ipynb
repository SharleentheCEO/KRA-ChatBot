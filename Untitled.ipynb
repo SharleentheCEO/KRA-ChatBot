{
 "cells": [
  {
   "cell_type": "markdown",
   "id": "db2d0b81-e4fa-41b7-8b8f-2931a88c3d16",
   "metadata": {},
   "source": [
    "# **Kenya Revenue Authority (KRA) ChatBot**"
   ]
  },
  {
   "cell_type": "markdown",
   "id": "0ba3cee1-6455-44e4-9225-b7b59b2900de",
   "metadata": {},
   "source": [
    "## Overview"
   ]
  },
  {
   "cell_type": "markdown",
   "id": "de73451a-57cb-4067-a675-79d72a552d4d",
   "metadata": {},
   "source": [
    "The **Kenya Revenue Authority (KRA)** is responsible for the collection of revenue on behalf of the Government of Kenya. With increasing demand for tax-related services, citizens often encounter delays and confusion when trying to understand tax obligations, file returns, or access services through traditional channels.\n",
    "To enhance public service delivery and ease access to tax information, this project aims to develop an AI-powered KRA Chatbot capable of answering common tax-related queries for individuals and businesses in real time."
   ]
  },
  {
   "cell_type": "markdown",
   "id": "cf4b2cc3-acf7-4439-9e72-06fdfe33d85e",
   "metadata": {},
   "source": [
    "## Business Understanding"
   ]
  },
  {
   "cell_type": "markdown",
   "id": "8c0d956e-1ed9-4278-97e1-a31d69604954",
   "metadata": {},
   "source": [
    "The **Kenya Revenue Authority (KRA)** plays a critical role in national development by collecting taxes that fund public services and infrastructure. However, many citizens face challenges navigating Kenya’s complex tax ecosystem. Taxpayers—especially small business owners, first-time filers, informal sector workers, and youth—often struggle to understand their tax obligations, registration processes, deadlines, and compliance procedures.This leads to widespread confusion, delays in filing, non-compliance, and an overburdened KRA support system.\n",
    "\n",
    "To address these challenges, the KRA Chatbot will be developed to provide instant, real-time, accessible and accurate assistance to users seeking tax-related information and services.The goal is to enhance accessability, reduce misinformation, and improve user engagement by leveraging natural language processing (NLP) for dynamic, intelligent responses."
   ]
  },
  {
   "cell_type": "markdown",
   "id": "5a48b120-84b5-4037-bd76-90a51cb1c0e1",
   "metadata": {},
   "source": [
    "## Problem Statement "
   ]
  },
  {
   "cell_type": "markdown",
   "id": "ddc294ce-ee45-42a5-97af-c7ee6ba27111",
   "metadata": {},
   "source": [
    "In Kenya, taxpayer education remains a significant barrier to improving compliance and understanding of the tax system. Many Kenyans struggle with filing taxes on time, understanding how much to pay, and navigating the KRA iTax system. Despite the resources available on the KRA website, clarity and accessibility of information remain a challenge. Taxpayers often face delays and confusion when trying to access support or find accurate information. Additionally, the language barriers between English and Swahili further hinder accessibility. The KRA Chatbot addresses these challenges by providing an AI powered, bilingual chatbot capable of handling the KRA-related queries with precision and also ensures that users receive relevant responses."
   ]
  },
  {
   "cell_type": "markdown",
   "id": "846ef8b0-ab2c-4123-8b30-7b850badac2d",
   "metadata": {},
   "source": [
    "## Data Understanding"
   ]
  },
  {
   "cell_type": "code",
   "execution_count": null,
   "id": "9f2b406e-e351-49da-95b8-e54692804836",
   "metadata": {},
   "outputs": [],
   "source": []
  },
  {
   "cell_type": "markdown",
   "id": "e21ba11d-d9fb-4130-bd0a-4fabd996bc6a",
   "metadata": {},
   "source": [
    "## Objectives "
   ]
  },
  {
   "cell_type": "code",
   "execution_count": null,
   "id": "014984c6-62f7-45f3-9512-5870a8768fbb",
   "metadata": {},
   "outputs": [],
   "source": []
  },
  {
   "cell_type": "markdown",
   "id": "f6d589ef-6482-4bdf-be57-832314e5b3ba",
   "metadata": {},
   "source": [
    "## Success Metrics"
   ]
  },
  {
   "cell_type": "code",
   "execution_count": null,
   "id": "5c1ae1dc-8691-4bfa-a813-b51256ca04ad",
   "metadata": {},
   "outputs": [],
   "source": []
  },
  {
   "cell_type": "markdown",
   "id": "5fce4ef4-f1aa-4e6f-a2d0-93f27dba8780",
   "metadata": {},
   "source": [
    "## Loading the datasets"
   ]
  },
  {
   "cell_type": "code",
   "execution_count": 1,
   "id": "a021543f-23aa-44cb-a78e-b8cfc0521df7",
   "metadata": {},
   "outputs": [],
   "source": [
    "#importing libraries\n",
    "import pandas as pd\n",
    "import numpy as np\n",
    "import matplotlib.pyplot as plt\n",
    "import seaborn as sns\n",
    "import tensorflow as sns\n",
    "import warnings\n",
    "\n",
    "warnings.filterwarnings('ignore')"
   ]
  },
  {
   "cell_type": "code",
   "execution_count": 2,
   "id": "43f9fc96-0a65-4357-a723-9f133c0157ca",
   "metadata": {},
   "outputs": [
    {
     "data": {
      "text/html": [
       "<div>\n",
       "<style scoped>\n",
       "    .dataframe tbody tr th:only-of-type {\n",
       "        vertical-align: middle;\n",
       "    }\n",
       "\n",
       "    .dataframe tbody tr th {\n",
       "        vertical-align: top;\n",
       "    }\n",
       "\n",
       "    .dataframe thead th {\n",
       "        text-align: right;\n",
       "    }\n",
       "</style>\n",
       "<table border=\"1\" class=\"dataframe\">\n",
       "  <thead>\n",
       "    <tr style=\"text-align: right;\">\n",
       "      <th></th>\n",
       "      <th>Questions</th>\n",
       "      <th>Answers</th>\n",
       "    </tr>\n",
       "  </thead>\n",
       "  <tbody>\n",
       "    <tr>\n",
       "      <th>0</th>\n",
       "      <td>How do I register for a KRA PIN</td>\n",
       "      <td>You can register for a KRA PIN by visiting the...</td>\n",
       "    </tr>\n",
       "    <tr>\n",
       "      <th>1</th>\n",
       "      <td>When is the deadline for filing individual inc...</td>\n",
       "      <td>The deadline for filing individual income tax ...</td>\n",
       "    </tr>\n",
       "    <tr>\n",
       "      <th>2</th>\n",
       "      <td>What is the penalty for late filing of VAT ret...</td>\n",
       "      <td>The penalty is KES 10,000 or 5% of the VAT due...</td>\n",
       "    </tr>\n",
       "    <tr>\n",
       "      <th>3</th>\n",
       "      <td>Can I recover a forgotten KRA password</td>\n",
       "      <td>Yes. Go to the iTax login page and click on 'F...</td>\n",
       "    </tr>\n",
       "    <tr>\n",
       "      <th>4</th>\n",
       "      <td>How do I apply for a KRA PIN</td>\n",
       "      <td>To apply for a KRA PIN, visit https://itax.kra...</td>\n",
       "    </tr>\n",
       "    <tr>\n",
       "      <th>...</th>\n",
       "      <td>...</td>\n",
       "      <td>...</td>\n",
       "    </tr>\n",
       "    <tr>\n",
       "      <th>454</th>\n",
       "      <td>What does a freight forwarder do?</td>\n",
       "      <td>They coordinate shipping, logistics, and docum...</td>\n",
       "    </tr>\n",
       "    <tr>\n",
       "      <th>455</th>\n",
       "      <td>Do freight forwarders pay tax?</td>\n",
       "      <td>Yes. Like any other business, freight forwarde...</td>\n",
       "    </tr>\n",
       "    <tr>\n",
       "      <th>456</th>\n",
       "      <td>What is a clearing agent?</td>\n",
       "      <td>A licensed professional or company authorized ...</td>\n",
       "    </tr>\n",
       "    <tr>\n",
       "      <th>457</th>\n",
       "      <td>Are there penalties for delayed clearance?</td>\n",
       "      <td>Yes. Demurrage and storage fees apply, and KRA...</td>\n",
       "    </tr>\n",
       "    <tr>\n",
       "      <th>458</th>\n",
       "      <td>How do I become a licensed clearing agent?</td>\n",
       "      <td>Apply through the Kenya Revenue Authority and ...</td>\n",
       "    </tr>\n",
       "  </tbody>\n",
       "</table>\n",
       "<p>459 rows × 2 columns</p>\n",
       "</div>"
      ],
      "text/plain": [
       "                                             Questions  \\\n",
       "0                      How do I register for a KRA PIN   \n",
       "1    When is the deadline for filing individual inc...   \n",
       "2    What is the penalty for late filing of VAT ret...   \n",
       "3               Can I recover a forgotten KRA password   \n",
       "4                         How do I apply for a KRA PIN   \n",
       "..                                                 ...   \n",
       "454                  What does a freight forwarder do?   \n",
       "455                     Do freight forwarders pay tax?   \n",
       "456                          What is a clearing agent?   \n",
       "457         Are there penalties for delayed clearance?   \n",
       "458         How do I become a licensed clearing agent?   \n",
       "\n",
       "                                               Answers  \n",
       "0    You can register for a KRA PIN by visiting the...  \n",
       "1    The deadline for filing individual income tax ...  \n",
       "2    The penalty is KES 10,000 or 5% of the VAT due...  \n",
       "3    Yes. Go to the iTax login page and click on 'F...  \n",
       "4    To apply for a KRA PIN, visit https://itax.kra...  \n",
       "..                                                 ...  \n",
       "454  They coordinate shipping, logistics, and docum...  \n",
       "455  Yes. Like any other business, freight forwarde...  \n",
       "456  A licensed professional or company authorized ...  \n",
       "457  Yes. Demurrage and storage fees apply, and KRA...  \n",
       "458  Apply through the Kenya Revenue Authority and ...  \n",
       "\n",
       "[459 rows x 2 columns]"
      ]
     },
     "execution_count": 2,
     "metadata": {},
     "output_type": "execute_result"
    }
   ],
   "source": [
    "# Loading the FAQs dataset\n",
    "data= pd.read_csv(\"KRAfaqs.csv\")\n",
    "data"
   ]
  },
  {
   "cell_type": "code",
   "execution_count": null,
   "id": "6bc33e06-d5fb-4139-b12f-67b1189a7cf0",
   "metadata": {},
   "outputs": [],
   "source": []
  }
 ],
 "metadata": {
  "kernelspec": {
   "display_name": "Python (learn-env)",
   "language": "python",
   "name": "learn-env"
  },
  "language_info": {
   "codemirror_mode": {
    "name": "ipython",
    "version": 3
   },
   "file_extension": ".py",
   "mimetype": "text/x-python",
   "name": "python",
   "nbconvert_exporter": "python",
   "pygments_lexer": "ipython3",
   "version": "3.11.11"
  }
 },
 "nbformat": 4,
 "nbformat_minor": 5
}
