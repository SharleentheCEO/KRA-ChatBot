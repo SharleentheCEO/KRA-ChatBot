{
 "cells": [
  {
   "cell_type": "markdown",
   "id": "db2d0b81-e4fa-41b7-8b8f-2931a88c3d16",
   "metadata": {},
   "source": [
    "# **Kenya Revenue Authority (KRA) ChatBot**"
   ]
  },
  {
   "cell_type": "markdown",
   "id": "0ba3cee1-6455-44e4-9225-b7b59b2900de",
   "metadata": {},
   "source": [
    "## Overview"
   ]
  },
  {
   "cell_type": "markdown",
   "id": "de73451a-57cb-4067-a675-79d72a552d4d",
   "metadata": {},
   "source": [
    "The **Kenya Revenue Authority (KRA)** is responsible for the collection of revenue on behalf of the Government of Kenya. With increasing demand for tax-related services, citizens often encounter delays and confusion when trying to understand tax obligations, file returns, or access services through traditional channels.\n",
    "To enhance public service delivery and ease access to tax information, this project aims to develop an AI-powered KRA Chatbot capable of answering common tax-related queries for individuals and businesses in real time."
   ]
  },
  {
   "cell_type": "markdown",
   "id": "cf4b2cc3-acf7-4439-9e72-06fdfe33d85e",
   "metadata": {},
   "source": [
    "## Business Understanding"
   ]
  },
  {
   "cell_type": "markdown",
   "id": "8c0d956e-1ed9-4278-97e1-a31d69604954",
   "metadata": {},
   "source": [
    "The **Kenya Revenue Authority (KRA)** plays a critical role in national development by collecting taxes that fund public services and infrastructure. However, many citizens face challenges navigating Kenya’s complex tax ecosystem. Taxpayers—especially small business owners, first-time filers, informal sector workers, and youth—often struggle to understand their tax obligations, registration processes, deadlines, and compliance procedures.This leads to widespread confusion, delays in filing, non-compliance, and an overburdened KRA support system.\n",
    "\n",
    "To address these challenges, the KRA Chatbot will be developed to provide instant, real-time, accessible and accurate assistance to users seeking tax-related information and services.The goal is to enhance accessability, reduce misinformation, and improve user engagement by leveraging natural language processing (NLP) for dynamic, intelligent responses."
   ]
  },
  {
   "cell_type": "markdown",
   "id": "5a48b120-84b5-4037-bd76-90a51cb1c0e1",
   "metadata": {},
   "source": [
    "## Problem Statement "
   ]
  },
  {
   "cell_type": "markdown",
   "id": "ddc294ce-ee45-42a5-97af-c7ee6ba27111",
   "metadata": {},
   "source": [
    "In Kenya, taxpayer education remains a significant barrier to improving compliance and understanding of the tax system. Many Kenyans struggle with filing taxes on time, understanding how much to pay, and navigating the KRA iTax system. Despite the resources available on the KRA website, clarity and accessibility of information remain a challenge. Taxpayers often face delays and confusion when trying to access support or find accurate information. Additionally, the language barriers between English and Swahili further hinder accessibility. The KRA Chatbot addresses these challenges by providing an AI powered, bilingual chatbot capable of handling the KRA-related queries with precision and also ensures that users receive relevant responses."
   ]
  },
  {
   "cell_type": "markdown",
   "id": "846ef8b0-ab2c-4123-8b30-7b850badac2d",
   "metadata": {},
   "source": [
    "## Data Understanding"
   ]
  },
  {
   "cell_type": "code",
   "execution_count": null,
   "id": "9f2b406e-e351-49da-95b8-e54692804836",
   "metadata": {},
   "outputs": [],
   "source": []
  },
  {
   "cell_type": "markdown",
   "id": "e21ba11d-d9fb-4130-bd0a-4fabd996bc6a",
   "metadata": {},
   "source": [
    "## Objectives "
   ]
  },
  {
   "cell_type": "code",
   "execution_count": null,
   "id": "014984c6-62f7-45f3-9512-5870a8768fbb",
   "metadata": {},
   "outputs": [],
   "source": []
  },
  {
   "cell_type": "markdown",
   "id": "f6d589ef-6482-4bdf-be57-832314e5b3ba",
   "metadata": {},
   "source": [
    "## Success Metrics"
   ]
  },
  {
   "cell_type": "code",
   "execution_count": null,
   "id": "5c1ae1dc-8691-4bfa-a813-b51256ca04ad",
   "metadata": {},
   "outputs": [],
   "source": []
  },
  {
   "cell_type": "markdown",
   "id": "5fce4ef4-f1aa-4e6f-a2d0-93f27dba8780",
   "metadata": {},
   "source": [
    "## Loading the datasets"
   ]
  },
  {
   "cell_type": "code",
   "execution_count": 1,
   "id": "a021543f-23aa-44cb-a78e-b8cfc0521df7",
   "metadata": {},
   "outputs": [],
   "source": [
    "#importing libraries\n",
    "import pandas as pd\n",
    "import numpy as np\n",
    "import matplotlib.pyplot as plt\n",
    "import seaborn as sns\n",
    "import tensorflow as sns\n",
    "import warnings\n",
    "\n",
    "warnings.filterwarnings('ignore')"
   ]
  },
  {
   "cell_type": "code",
   "execution_count": 3,
   "id": "43f9fc96-0a65-4357-a723-9f133c0157ca",
   "metadata": {},
   "outputs": [
    {
     "data": {
      "text/html": [
       "<div>\n",
       "<style scoped>\n",
       "    .dataframe tbody tr th:only-of-type {\n",
       "        vertical-align: middle;\n",
       "    }\n",
       "\n",
       "    .dataframe tbody tr th {\n",
       "        vertical-align: top;\n",
       "    }\n",
       "\n",
       "    .dataframe thead th {\n",
       "        text-align: right;\n",
       "    }\n",
       "</style>\n",
       "<table border=\"1\" class=\"dataframe\">\n",
       "  <thead>\n",
       "    <tr style=\"text-align: right;\">\n",
       "      <th></th>\n",
       "      <th>Questions</th>\n",
       "      <th>Answers</th>\n",
       "    </tr>\n",
       "  </thead>\n",
       "  <tbody>\n",
       "    <tr>\n",
       "      <th>0</th>\n",
       "      <td>How do I register for a KRA PIN</td>\n",
       "      <td>You can register for a KRA PIN by visiting the...</td>\n",
       "    </tr>\n",
       "    <tr>\n",
       "      <th>1</th>\n",
       "      <td>When is the deadline for filing individual inc...</td>\n",
       "      <td>The deadline for filing individual income tax ...</td>\n",
       "    </tr>\n",
       "    <tr>\n",
       "      <th>2</th>\n",
       "      <td>What is the penalty for late filing of VAT ret...</td>\n",
       "      <td>The penalty is KES 10,000 or 5% of the VAT due...</td>\n",
       "    </tr>\n",
       "    <tr>\n",
       "      <th>3</th>\n",
       "      <td>Can I recover a forgotten KRA password</td>\n",
       "      <td>Yes. Go to the iTax login page and click on 'F...</td>\n",
       "    </tr>\n",
       "    <tr>\n",
       "      <th>4</th>\n",
       "      <td>How do I apply for a KRA PIN</td>\n",
       "      <td>To apply for a KRA PIN, visit https://itax.kra...</td>\n",
       "    </tr>\n",
       "    <tr>\n",
       "      <th>...</th>\n",
       "      <td>...</td>\n",
       "      <td>...</td>\n",
       "    </tr>\n",
       "    <tr>\n",
       "      <th>619</th>\n",
       "      <td>Are there penalties for not declaring online i...</td>\n",
       "      <td>Yes. You may face audits, penalties, and inter...</td>\n",
       "    </tr>\n",
       "    <tr>\n",
       "      <th>620</th>\n",
       "      <td>How can I reduce my tax as a freelancer?</td>\n",
       "      <td>Track allowable expenses (e.g., internet, soft...</td>\n",
       "    </tr>\n",
       "    <tr>\n",
       "      <th>621</th>\n",
       "      <td>Can I use Turnover Tax (TOT) as a freelancer?</td>\n",
       "      <td>Only if your annual turnover is between KES 1M...</td>\n",
       "    </tr>\n",
       "    <tr>\n",
       "      <th>622</th>\n",
       "      <td>Is remote work for a foreign company taxed in ...</td>\n",
       "      <td>Yes. Kenyan residents must pay tax on worldwid...</td>\n",
       "    </tr>\n",
       "    <tr>\n",
       "      <th>623</th>\n",
       "      <td>I live in Kenya but bill in USD—how do I conve...</td>\n",
       "      <td>Use the Central Bank of Kenya (CBK) monthly av...</td>\n",
       "    </tr>\n",
       "  </tbody>\n",
       "</table>\n",
       "<p>624 rows × 2 columns</p>\n",
       "</div>"
      ],
      "text/plain": [
       "                                             Questions  \\\n",
       "0                      How do I register for a KRA PIN   \n",
       "1    When is the deadline for filing individual inc...   \n",
       "2    What is the penalty for late filing of VAT ret...   \n",
       "3               Can I recover a forgotten KRA password   \n",
       "4                         How do I apply for a KRA PIN   \n",
       "..                                                 ...   \n",
       "619  Are there penalties for not declaring online i...   \n",
       "620           How can I reduce my tax as a freelancer?   \n",
       "621      Can I use Turnover Tax (TOT) as a freelancer?   \n",
       "622  Is remote work for a foreign company taxed in ...   \n",
       "623  I live in Kenya but bill in USD—how do I conve...   \n",
       "\n",
       "                                               Answers  \n",
       "0    You can register for a KRA PIN by visiting the...  \n",
       "1    The deadline for filing individual income tax ...  \n",
       "2    The penalty is KES 10,000 or 5% of the VAT due...  \n",
       "3    Yes. Go to the iTax login page and click on 'F...  \n",
       "4    To apply for a KRA PIN, visit https://itax.kra...  \n",
       "..                                                 ...  \n",
       "619  Yes. You may face audits, penalties, and inter...  \n",
       "620  Track allowable expenses (e.g., internet, soft...  \n",
       "621  Only if your annual turnover is between KES 1M...  \n",
       "622  Yes. Kenyan residents must pay tax on worldwid...  \n",
       "623  Use the Central Bank of Kenya (CBK) monthly av...  \n",
       "\n",
       "[624 rows x 2 columns]"
      ]
     },
     "execution_count": 3,
     "metadata": {},
     "output_type": "execute_result"
    }
   ],
   "source": [
    "# Loading the FAQs dataset\n",
    "data= pd.read_csv(\"KRAfaqs.csv\")\n",
    "data"
   ]
  },
  {
   "cell_type": "code",
   "execution_count": null,
   "id": "2e2b6a51-a53c-42bd-be44-5e61ed5faa55",
   "metadata": {},
   "outputs": [],
   "source": []
  },
  {
   "cell_type": "code",
   "execution_count": 8,
   "id": "ad20cbac-6af4-4a95-abcc-6a01f4e857fc",
   "metadata": {},
   "outputs": [
    {
     "name": "stdout",
     "output_type": "stream",
     "text": [
      "<class 'pandas.core.frame.DataFrame'>\n",
      "RangeIndex: 624 entries, 0 to 623\n",
      "Data columns (total 2 columns):\n",
      " #   Column     Non-Null Count  Dtype \n",
      "---  ------     --------------  ----- \n",
      " 0   Questions  615 non-null    object\n",
      " 1   Answers    615 non-null    object\n",
      "dtypes: object(2)\n",
      "memory usage: 9.9+ KB\n"
     ]
    }
   ],
   "source": [
    "# Checking the info in the dataset\n",
    "data.info()"
   ]
  },
  {
   "cell_type": "markdown",
   "id": "25f33a14-7162-4a38-96f2-658a808d4f62",
   "metadata": {},
   "source": [
    "This dataset has 624 entries and 2 columns (Questions, Answers), both containing text data (object type)."
   ]
  },
  {
   "cell_type": "code",
   "execution_count": 9,
   "id": "4077573b-b347-4561-ae53-4953f580bddc",
   "metadata": {},
   "outputs": [
    {
     "data": {
      "text/html": [
       "<div>\n",
       "<style scoped>\n",
       "    .dataframe tbody tr th:only-of-type {\n",
       "        vertical-align: middle;\n",
       "    }\n",
       "\n",
       "    .dataframe tbody tr th {\n",
       "        vertical-align: top;\n",
       "    }\n",
       "\n",
       "    .dataframe thead th {\n",
       "        text-align: right;\n",
       "    }\n",
       "</style>\n",
       "<table border=\"1\" class=\"dataframe\">\n",
       "  <thead>\n",
       "    <tr style=\"text-align: right;\">\n",
       "      <th></th>\n",
       "      <th>Questions</th>\n",
       "      <th>Answers</th>\n",
       "    </tr>\n",
       "  </thead>\n",
       "  <tbody>\n",
       "    <tr>\n",
       "      <th>count</th>\n",
       "      <td>615</td>\n",
       "      <td>615</td>\n",
       "    </tr>\n",
       "    <tr>\n",
       "      <th>unique</th>\n",
       "      <td>606</td>\n",
       "      <td>612</td>\n",
       "    </tr>\n",
       "    <tr>\n",
       "      <th>top</th>\n",
       "      <td>What happens if I don't file my tax returns</td>\n",
       "      <td>VAT returns must be filed monthly, on or befor...</td>\n",
       "    </tr>\n",
       "    <tr>\n",
       "      <th>freq</th>\n",
       "      <td>2</td>\n",
       "      <td>2</td>\n",
       "    </tr>\n",
       "  </tbody>\n",
       "</table>\n",
       "</div>"
      ],
      "text/plain": [
       "                                          Questions  \\\n",
       "count                                           615   \n",
       "unique                                          606   \n",
       "top     What happens if I don't file my tax returns   \n",
       "freq                                              2   \n",
       "\n",
       "                                                  Answers  \n",
       "count                                                 615  \n",
       "unique                                                612  \n",
       "top     VAT returns must be filed monthly, on or befor...  \n",
       "freq                                                    2  "
      ]
     },
     "execution_count": 9,
     "metadata": {},
     "output_type": "execute_result"
    }
   ],
   "source": [
    "#Describing the dataset\n",
    "data.describe()"
   ]
  },
  {
   "cell_type": "markdown",
   "id": "1b59993f-af08-4929-8743-50247a85a954",
   "metadata": {},
   "source": [
    "* There are 615 rows, meaning the dataset contains 615 FAQ pairs (each with a question and answer). Unique Values\n",
    "\n",
    "* Questions column has 606 unique values:\n",
    "\n",
    "* Answers column has 612 unique values:\n",
    "\n",
    "* The most common question is \"What happens if I don't file my tax returns\", appearing 2 times in the dataset.\n",
    "\n",
    "* The most common answer is \"VAT returns must be filed monthly, on or befor...\", appearing 2 times in the dataset.\n",
    "\n",
    "* The most common question appears 2 times, indicating that users frequently ask about not filing the tax returns.\n",
    "\n",
    "* The most common answer appears 2 times, suggesting that some questions share a similar response."
   ]
  },
  {
   "cell_type": "markdown",
   "id": "aa2266f7-0175-4c8b-82f2-7a103267ad54",
   "metadata": {},
   "source": [
    "## Data Cleaning"
   ]
  },
  {
   "cell_type": "markdown",
   "id": "3c15a90f-0d30-4ca4-ba85-abbef7a83016",
   "metadata": {},
   "source": [
    "### Accuracy"
   ]
  },
  {
   "cell_type": "code",
   "execution_count": 5,
   "id": "6bc33e06-d5fb-4139-b12f-67b1189a7cf0",
   "metadata": {},
   "outputs": [
    {
     "data": {
      "text/plain": [
       "np.int64(8)"
      ]
     },
     "execution_count": 5,
     "metadata": {},
     "output_type": "execute_result"
    }
   ],
   "source": [
    "#Checking for duplicates\n",
    "data.duplicated().sum()"
   ]
  },
  {
   "cell_type": "markdown",
   "id": "1485e60d-bd3d-47b4-b477-9f3293857b8a",
   "metadata": {},
   "source": [
    "There are 8 duplicates in the dataset. The duplicates will be dropped."
   ]
  },
  {
   "cell_type": "code",
   "execution_count": 7,
   "id": "8f65ea5f-6eba-4640-91aa-2106d7839008",
   "metadata": {},
   "outputs": [
    {
     "data": {
      "text/plain": [
       "Questions    9\n",
       "Answers      9\n",
       "dtype: int64"
      ]
     },
     "execution_count": 7,
     "metadata": {},
     "output_type": "execute_result"
    }
   ],
   "source": [
    "#Checking for null values\n",
    "data.isnull().sum()"
   ]
  },
  {
   "cell_type": "markdown",
   "id": "90b31b9e-fd6e-40f9-82ed-13afb14bc60c",
   "metadata": {},
   "source": [
    "There are 9 null values in the Questions column and 9 null values in the Answers column. The null values will be dropped."
   ]
  },
  {
   "cell_type": "code",
   "execution_count": null,
   "id": "d593c61d-a1d1-4252-a113-7be95a1a582f",
   "metadata": {},
   "outputs": [],
   "source": []
  }
 ],
 "metadata": {
  "kernelspec": {
   "display_name": "Python (learn-env)",
   "language": "python",
   "name": "learn-env"
  },
  "language_info": {
   "codemirror_mode": {
    "name": "ipython",
    "version": 3
   },
   "file_extension": ".py",
   "mimetype": "text/x-python",
   "name": "python",
   "nbconvert_exporter": "python",
   "pygments_lexer": "ipython3",
   "version": "3.11.11"
  }
 },
 "nbformat": 4,
 "nbformat_minor": 5
}
